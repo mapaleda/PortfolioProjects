{
 "cells": [
  {
   "cell_type": "markdown",
   "id": "d34dabbc",
   "metadata": {},
   "source": [
    "**Datacamp Project**"
   ]
  },
  {
   "cell_type": "markdown",
   "id": "67065ba3-366a-4275-ba63-22c0e066d136",
   "metadata": {},
   "source": [
    "<img src=\"rupixen-Q59HmzK38eQ-unsplash.jpg\" alt=\"Someone is trying to purchase a produce online\" width=\"500\"/>"
   ]
  },
  {
   "cell_type": "markdown",
   "id": "fe2cbf96-ad4d-4165-8981-1b301108f5bc",
   "metadata": {
    "collapsed": false,
    "jupyter": {
     "outputs_hidden": false,
     "source_hidden": false
    }
   },
   "source": [
    "Online shopping decisions rely on how consumers engage with online store content. You work for a new startup company that has just launched a new online shopping website. The marketing team asks you, a new data scientist, to review a dataset of online shoppers' purchasing intentions gathered over the last year. Specifically, the team wants you to generate some insights into customer browsing behaviors in November and December, the busiest months for shoppers. You have decided to identify two groups of customers: those with a low purchase rate and returning customers. After identifying these groups, you want to determine the probability that any of these customers will make a purchase in a new marketing campaign to help gauge potential success for next year's sales.\n",
    "\n",
    "### Data description:\n",
    "\n",
    "You are given an `online_shopping_session_data.csv` that contains several columns about each shopping session. Each shopping session corresponded to a single user. \n",
    "\n",
    "|Column|Description|\n",
    "|--------|-----------|\n",
    "|`SessionID`|unique session ID|\n",
    "|`Administrative`|number of pages visited related to the customer account|\n",
    "|`Administrative_Duration`|total amount of time spent (in seconds) on administrative pages|\n",
    "|`Informational`|number of pages visited related to the website and the company|\n",
    "|`Informational_Duration`|total amount of time spent (in seconds) on informational pages|\n",
    "|`ProductRelated`|number of pages visited related to available products|\n",
    "|`ProductRelated_Duration`|total amount of time spent (in seconds) on product-related pages|\n",
    "|`BounceRates`|average bounce rate of pages visited by the customer|\n",
    "|`ExitRates`|average exit rate of pages visited by the customer|\n",
    "|`PageValues`|average page value of pages visited by the customer|\n",
    "|`SpecialDay`|closeness of the site visiting time to a specific special day|\n",
    "|`Weekend`|indicator whether the session is on a weekend|\n",
    "|`Month`|month of the session date|\n",
    "|`CustomerType`|customer type|\n",
    "|`Purchase`|class label whether the customer make a purchase|"
   ]
  },
  {
   "cell_type": "code",
   "execution_count": 23,
   "id": "b841fb9f-4e70-4796-9f35-7c6bbba3cca2",
   "metadata": {
    "executionCancelledAt": null,
    "executionTime": 46,
    "lastExecutedAt": 1723158406528,
    "lastExecutedByKernel": "7cab4325-5e40-4148-a561-965d3030b8a8",
    "lastScheduledRunId": null,
    "lastSuccessfullyExecutedCode": "# Import required libraries\nimport pandas as pd\nimport numpy as np\nimport matplotlib.pyplot as plt\nfrom scipy import stats\n\n# Load and view your data\nshopping_data = pd.read_csv(\"online_shopping_session_data.csv\")\nshopping_data.head()"
   },
   "outputs": [
    {
     "data": {
      "application/com.datacamp.data-table.v2+json": {
       "table": {
        "data": {
         "Administrative": [
          0,
          0,
          0,
          0,
          0
         ],
         "Administrative_Duration": [
          0,
          0,
          0,
          0,
          0
         ],
         "BounceRates": [
          0.2,
          0,
          0.2,
          0.05,
          0.02
         ],
         "CustomerType": [
          "Returning_Customer",
          "Returning_Customer",
          "Returning_Customer",
          "Returning_Customer",
          "Returning_Customer"
         ],
         "ExitRates": [
          0.2,
          0.1,
          0.2,
          0.14,
          0.05
         ],
         "Informational": [
          0,
          0,
          0,
          0,
          0
         ],
         "Informational_Duration": [
          0,
          0,
          0,
          0,
          0
         ],
         "Month": [
          "Feb",
          "Feb",
          "Feb",
          "Feb",
          "Feb"
         ],
         "PageValues": [
          0,
          0,
          0,
          0,
          0
         ],
         "ProductRelated": [
          1,
          2,
          1,
          2,
          10
         ],
         "ProductRelated_Duration": [
          0,
          64,
          0,
          2.666666667,
          627.5
         ],
         "Purchase": [
          0,
          0,
          0,
          0,
          0
         ],
         "SessionID": [
          1,
          2,
          3,
          4,
          5
         ],
         "SpecialDay": [
          0,
          0,
          0,
          0,
          0
         ],
         "Weekend": [
          false,
          false,
          false,
          false,
          true
         ],
         "index": [
          0,
          1,
          2,
          3,
          4
         ]
        },
        "schema": {
         "fields": [
          {
           "name": "index",
           "type": "integer"
          },
          {
           "name": "SessionID",
           "type": "integer"
          },
          {
           "name": "Administrative",
           "type": "integer"
          },
          {
           "name": "Administrative_Duration",
           "type": "number"
          },
          {
           "name": "Informational",
           "type": "integer"
          },
          {
           "name": "Informational_Duration",
           "type": "number"
          },
          {
           "name": "ProductRelated",
           "type": "integer"
          },
          {
           "name": "ProductRelated_Duration",
           "type": "number"
          },
          {
           "name": "BounceRates",
           "type": "number"
          },
          {
           "name": "ExitRates",
           "type": "number"
          },
          {
           "name": "PageValues",
           "type": "number"
          },
          {
           "name": "SpecialDay",
           "type": "number"
          },
          {
           "name": "Weekend",
           "type": "boolean"
          },
          {
           "name": "Month",
           "type": "string"
          },
          {
           "name": "CustomerType",
           "type": "string"
          },
          {
           "name": "Purchase",
           "type": "number"
          }
         ],
         "pandas_version": "1.4.0",
         "primaryKey": [
          "index"
         ]
        }
       },
       "total_rows": 5,
       "truncation_type": null
      },
      "text/html": [
       "<div>\n",
       "<style scoped>\n",
       "    .dataframe tbody tr th:only-of-type {\n",
       "        vertical-align: middle;\n",
       "    }\n",
       "\n",
       "    .dataframe tbody tr th {\n",
       "        vertical-align: top;\n",
       "    }\n",
       "\n",
       "    .dataframe thead th {\n",
       "        text-align: right;\n",
       "    }\n",
       "</style>\n",
       "<table border=\"1\" class=\"dataframe\">\n",
       "  <thead>\n",
       "    <tr style=\"text-align: right;\">\n",
       "      <th></th>\n",
       "      <th>SessionID</th>\n",
       "      <th>Administrative</th>\n",
       "      <th>Administrative_Duration</th>\n",
       "      <th>Informational</th>\n",
       "      <th>Informational_Duration</th>\n",
       "      <th>ProductRelated</th>\n",
       "      <th>ProductRelated_Duration</th>\n",
       "      <th>BounceRates</th>\n",
       "      <th>ExitRates</th>\n",
       "      <th>PageValues</th>\n",
       "      <th>SpecialDay</th>\n",
       "      <th>Weekend</th>\n",
       "      <th>Month</th>\n",
       "      <th>CustomerType</th>\n",
       "      <th>Purchase</th>\n",
       "    </tr>\n",
       "  </thead>\n",
       "  <tbody>\n",
       "    <tr>\n",
       "      <th>0</th>\n",
       "      <td>1</td>\n",
       "      <td>0</td>\n",
       "      <td>0.0</td>\n",
       "      <td>0</td>\n",
       "      <td>0.0</td>\n",
       "      <td>1</td>\n",
       "      <td>0.000000</td>\n",
       "      <td>0.20</td>\n",
       "      <td>0.20</td>\n",
       "      <td>0.0</td>\n",
       "      <td>0.0</td>\n",
       "      <td>False</td>\n",
       "      <td>Feb</td>\n",
       "      <td>Returning_Customer</td>\n",
       "      <td>0.0</td>\n",
       "    </tr>\n",
       "    <tr>\n",
       "      <th>1</th>\n",
       "      <td>2</td>\n",
       "      <td>0</td>\n",
       "      <td>0.0</td>\n",
       "      <td>0</td>\n",
       "      <td>0.0</td>\n",
       "      <td>2</td>\n",
       "      <td>64.000000</td>\n",
       "      <td>0.00</td>\n",
       "      <td>0.10</td>\n",
       "      <td>0.0</td>\n",
       "      <td>0.0</td>\n",
       "      <td>False</td>\n",
       "      <td>Feb</td>\n",
       "      <td>Returning_Customer</td>\n",
       "      <td>0.0</td>\n",
       "    </tr>\n",
       "    <tr>\n",
       "      <th>2</th>\n",
       "      <td>3</td>\n",
       "      <td>0</td>\n",
       "      <td>0.0</td>\n",
       "      <td>0</td>\n",
       "      <td>0.0</td>\n",
       "      <td>1</td>\n",
       "      <td>0.000000</td>\n",
       "      <td>0.20</td>\n",
       "      <td>0.20</td>\n",
       "      <td>0.0</td>\n",
       "      <td>0.0</td>\n",
       "      <td>False</td>\n",
       "      <td>Feb</td>\n",
       "      <td>Returning_Customer</td>\n",
       "      <td>0.0</td>\n",
       "    </tr>\n",
       "    <tr>\n",
       "      <th>3</th>\n",
       "      <td>4</td>\n",
       "      <td>0</td>\n",
       "      <td>0.0</td>\n",
       "      <td>0</td>\n",
       "      <td>0.0</td>\n",
       "      <td>2</td>\n",
       "      <td>2.666667</td>\n",
       "      <td>0.05</td>\n",
       "      <td>0.14</td>\n",
       "      <td>0.0</td>\n",
       "      <td>0.0</td>\n",
       "      <td>False</td>\n",
       "      <td>Feb</td>\n",
       "      <td>Returning_Customer</td>\n",
       "      <td>0.0</td>\n",
       "    </tr>\n",
       "    <tr>\n",
       "      <th>4</th>\n",
       "      <td>5</td>\n",
       "      <td>0</td>\n",
       "      <td>0.0</td>\n",
       "      <td>0</td>\n",
       "      <td>0.0</td>\n",
       "      <td>10</td>\n",
       "      <td>627.500000</td>\n",
       "      <td>0.02</td>\n",
       "      <td>0.05</td>\n",
       "      <td>0.0</td>\n",
       "      <td>0.0</td>\n",
       "      <td>True</td>\n",
       "      <td>Feb</td>\n",
       "      <td>Returning_Customer</td>\n",
       "      <td>0.0</td>\n",
       "    </tr>\n",
       "  </tbody>\n",
       "</table>\n",
       "</div>"
      ],
      "text/plain": [
       "   SessionID  Administrative  ...        CustomerType  Purchase\n",
       "0          1               0  ...  Returning_Customer       0.0\n",
       "1          2               0  ...  Returning_Customer       0.0\n",
       "2          3               0  ...  Returning_Customer       0.0\n",
       "3          4               0  ...  Returning_Customer       0.0\n",
       "4          5               0  ...  Returning_Customer       0.0\n",
       "\n",
       "[5 rows x 15 columns]"
      ]
     },
     "execution_count": 23,
     "metadata": {},
     "output_type": "execute_result"
    }
   ],
   "source": [
    "# Import required libraries\n",
    "import pandas as pd\n",
    "import numpy as np\n",
    "import matplotlib.pyplot as plt\n",
    "from scipy import stats\n",
    "\n",
    "# Load and view data\n",
    "shopping_data = pd.read_csv(\"online_shopping_session_data.csv\")\n",
    "shopping_data.head()"
   ]
  },
  {
   "cell_type": "code",
   "execution_count": 24,
   "id": "2fd7809b-b635-4db1-9d56-29391ff1cb00",
   "metadata": {
    "executionCancelledAt": null,
    "executionTime": 51,
    "lastExecutedAt": 1723158406579,
    "lastExecutedByKernel": "7cab4325-5e40-4148-a561-965d3030b8a8",
    "lastScheduledRunId": null,
    "lastSuccessfullyExecutedCode": "#1. Calculating online purchase rates by customer type\n\n#Subsetting for November and December\nshop_nov_dec = shopping_data[shopping_data['Month'].isin(['Nov', 'Dec'])]\nshop_nov_dec.head()\n\n#Calculating frequency of sessions by customer type\ncount_session = shop_nov_dec.groupby(['CustomerType'])['Purchase'].value_counts()\ncount_session\n\n#Number of sessions by customer type\ntotal_new_customer = np.sum(count_session['New_Customer'])\ntotal_returning_customer = np.sum(count_session['Returning_Customer'])\n\n#Number of purchases by customer type\npurchase_new_customer = count_session[('New_Customer', 1)]\npurchase_returning_customer = count_session[('Returning_Customer', 1)]\n\n#Calculating purchase rates number of purchases/number of sessions\npurchase_rate_new = purchase_new_customer / total_new_customer\npurchase_rate_returning = purchase_returning_customer / total_returning_customer\n\n#Storing the result in a dictionary\npurchase_rates = {\"Returning_Customer\": round(purchase_rate_returning, 3), \"New_Customer\": round(purchase_rate_new, 3)}\nprint(purchase_rates)",
    "outputsMetadata": {
     "0": {
      "height": 38,
      "type": "stream"
     }
    }
   },
   "outputs": [
    {
     "name": "stdout",
     "output_type": "stream",
     "text": [
      "{'Returning_Customer': 0.196, 'New_Customer': 0.273}\n"
     ]
    }
   ],
   "source": [
    "#1. Calculating online purchase rates by customer type\n",
    "\n",
    "#Subsetting for November and December\n",
    "shop_nov_dec = shopping_data[shopping_data['Month'].isin(['Nov', 'Dec'])]\n",
    "shop_nov_dec.head()\n",
    "\n",
    "#Calculating frequency of sessions by customer type\n",
    "count_session = shop_nov_dec.groupby(['CustomerType'])['Purchase'].value_counts()\n",
    "count_session\n",
    "\n",
    "#Number of sessions by customer type\n",
    "total_new_customer = np.sum(count_session['New_Customer'])\n",
    "total_returning_customer = np.sum(count_session['Returning_Customer'])\n",
    "\n",
    "#Number of purchases by customer type\n",
    "purchase_new_customer = count_session[('New_Customer', 1)]\n",
    "purchase_returning_customer = count_session[('Returning_Customer', 1)]\n",
    "\n",
    "#Calculating purchase rates number of purchases/number of sessions\n",
    "purchase_rate_new = purchase_new_customer / total_new_customer\n",
    "purchase_rate_returning = purchase_returning_customer / total_returning_customer\n",
    "\n",
    "#Storing the result in a dictionary\n",
    "purchase_rates = {\"Returning_Customer\": round(purchase_rate_returning, 3), \"New_Customer\": round(purchase_rate_new, 3)}\n",
    "print(purchase_rates)"
   ]
  },
  {
   "cell_type": "code",
   "execution_count": 25,
   "id": "562d4c27-8f4a-4954-8f71-e47fe35075c1",
   "metadata": {
    "executionCancelledAt": null,
    "executionTime": 52,
    "lastExecutedAt": 1723158406631,
    "lastExecutedByKernel": "7cab4325-5e40-4148-a561-965d3030b8a8",
    "lastScheduledRunId": null,
    "lastSuccessfullyExecutedCode": "#2. Identifying strongest correlation among duration variables\n\n#Calculating correlation with Pandas\ncorr_admin_info = shop_nov_dec['Administrative_Duration'].corr(shop_nov_dec['Informational_Duration'])\ncorr_admin_product = shop_nov_dec['Administrative_Duration'].corr(shop_nov_dec['ProductRelated_Duration'])\ncorr_info_product = shop_nov_dec['Informational_Duration'].corr(shop_nov_dec['ProductRelated_Duration'])\n\nprint(corr_admin_info)\nprint(corr_admin_product)\nprint(corr_info_product)\n\n# Another way to solve this is to use Scipy pearsonr function\n# cor_admin_info = stats.pearsonr(shopping_Nov_Dec['Administrative_Duration'], shopping_Nov_Dec['Informational_Duration'])\n\n# Another way to solve this is to use Pandas correlation matrix\n# shopping_Nov_Dec[['Administrative_Duration','Informational_Duration','ProductRelated_Duration' ]].corr()\n\ntop_correlation = {\"pair\": ('Administrative_Duration', 'ProductRelated_Duration'), \"correlation\": round(corr_admin_product, 3)}\nprint(top_correlation)",
    "outputsMetadata": {
     "0": {
      "height": 101,
      "type": "stream"
     }
    }
   },
   "outputs": [
    {
     "name": "stdout",
     "output_type": "stream",
     "text": [
      "0.24468855792839267\n",
      "0.3898546003206963\n",
      "0.36712552534442133\n",
      "{'pair': ('Administrative_Duration', 'ProductRelated_Duration'), 'correlation': 0.39}\n"
     ]
    }
   ],
   "source": [
    "#2. Identifying strongest correlation among duration variables\n",
    "\n",
    "#Calculating correlation with Pandas\n",
    "corr_admin_info = shop_nov_dec['Administrative_Duration'].corr(shop_nov_dec['Informational_Duration'])\n",
    "corr_admin_product = shop_nov_dec['Administrative_Duration'].corr(shop_nov_dec['ProductRelated_Duration'])\n",
    "corr_info_product = shop_nov_dec['Informational_Duration'].corr(shop_nov_dec['ProductRelated_Duration'])\n",
    "\n",
    "print(corr_admin_info)\n",
    "print(corr_admin_product)\n",
    "print(corr_info_product)\n",
    "\n",
    "# Another way to solve this is to use Scipy pearsonr function\n",
    "# cor_admin_info = stats.pearsonr(shopping_Nov_Dec['Administrative_Duration'], shopping_Nov_Dec['Informational_Duration'])\n",
    "\n",
    "# Another way to solve this is to use Pandas correlation matrix\n",
    "# shopping_Nov_Dec[['Administrative_Duration','Informational_Duration','ProductRelated_Duration' ]].corr()\n",
    "\n",
    "top_correlation = {\"pair\": ('Administrative_Duration', 'ProductRelated_Duration'), \"correlation\": round(corr_admin_product, 3)}\n",
    "print(top_correlation)"
   ]
  },
  {
   "cell_type": "code",
   "execution_count": 26,
   "id": "b1a87f98-4692-4b5a-98c6-59ba00266a0e",
   "metadata": {
    "executionCancelledAt": null,
    "executionTime": 1235,
    "lastExecutedAt": 1723158407866,
    "lastExecutedByKernel": "7cab4325-5e40-4148-a561-965d3030b8a8",
    "lastScheduledRunId": null,
    "lastSuccessfullyExecutedCode": "#3. \n## A new campaign for the returning customers will boost the purchase rate by 15%. \n## What is the likelihood of achieving at least 100 sales out of 500 online shopping sessions for the returning customers?\n\n# Purchase is a binomial random variable taking the value of either 0 or 1\n# We know that the current purchase rate for the returning customers is\nprint(\"Current purchase rate for the returning customer:\", round(purchase_rate_returning, 3))\n\n#15% increase in this rate is equal to\nincreased_purchase_rate_returning = 1.15 * purchase_rate_returning\nprint(\"Increased  purchase rate for returning customers is equal to:\", round(increased_purchased_rate_returning, 3))\n\n#Finding likelihood of having less than 100 sales of 500 sessions\n#Using binomial cdf\nprob_sales_100_less = stats.binom.cdf(k=100, n=500, p=increased_purchased_rate_returning)\nprint(\"Probability of having less than 100 sales:\", prob_sales_100_less)\n\n#Finding probability of having 100 or more sales out of 500 sessions 1-prob_sales_100_less\nprob_at_least_100_sales = 1 - prob_sales_100_less\nprint(\"Probability of having at least 100 sales:\", prob_at_least_100_sales)\n\n#Optional - Plotting binomial probability distribution\nn_sessions = 500\nk_values = np.arange(500) + 1\np_binom_values = [stats.binom.pmf(k, n_sessions, increased_purchase_rate_returning) for k in k_values]\nplt.bar(k_values, p_binom_values)\nplt.vlines(100, 0, 0.08, color='r', linestyles='dashed', label=\"sales=100\")\nplt.xlabel(\"Number of sales\")\nplt.ylabel(\"Probability\")\nplt.legend()\nplt.show()",
    "outputsMetadata": {
     "0": {
      "height": 101,
      "type": "stream"
     }
    }
   },
   "outputs": [
    {
     "name": "stdout",
     "output_type": "stream",
     "text": [
      "Current purchase rate for the returning customer: 0.196\n",
      "Increased  purchase rate for returning customers is equal to: 0.225\n",
      "Probability of having less than 100 sales: 0.0987778660962733\n",
      "Probability of having at least 100 sales: 0.9012221339037267\n"
     ]
    },
    {
     "data": {
      "image/png": "[encoded data removed]",
      "text/plain": [
       "<Figure size 640x480 with 1 Axes>"
      ]
     },
     "metadata": {
      "image/png": {
       "height": 432,
       "width": 574
      }
     },
     "output_type": "display_data"
    }
   ],
   "source": [
    "#3. \n",
    "## A new campaign for the returning customers will boost the purchase rate by 15%. \n",
    "## What is the likelihood of achieving at least 100 sales out of 500 online shopping sessions for the returning customers?\n",
    "\n",
    "# Purchase is a binomial random variable taking the value of either 0 or 1\n",
    "# We know that the current purchase rate for the returning customers is\n",
    "print(\"Current purchase rate for the returning customer:\", round(purchase_rate_returning, 3))\n",
    "\n",
    "#15% increase in this rate is equal to\n",
    "increased_purchase_rate_returning = 1.15 * purchase_rate_returning\n",
    "print(\"Increased  purchase rate for returning customers is equal to:\", round(increased_purchased_rate_returning, 3))\n",
    "\n",
    "#Finding likelihood of having less than 100 sales of 500 sessions\n",
    "#Using binomial cdf\n",
    "prob_sales_100_less = stats.binom.cdf(k=100, n=500, p=increased_purchased_rate_returning)\n",
    "print(\"Probability of having less than 100 sales:\", prob_sales_100_less)\n",
    "\n",
    "#Finding probability of having 100 or more sales out of 500 sessions 1-prob_sales_100_less\n",
    "prob_at_least_100_sales = 1 - prob_sales_100_less\n",
    "print(\"Probability of having at least 100 sales:\", prob_at_least_100_sales)\n",
    "\n",
    "#Optional - Plotting binomial probability distribution\n",
    "n_sessions = 500\n",
    "k_values = np.arange(500) + 1\n",
    "p_binom_values = [stats.binom.pmf(k, n_sessions, increased_purchase_rate_returning) for k in k_values]\n",
    "plt.bar(k_values, p_binom_values)\n",
    "plt.vlines(100, 0, 0.08, color='r', linestyles='dashed', label=\"sales=100\")\n",
    "plt.xlabel(\"Number of sales\")\n",
    "plt.ylabel(\"Probability\")\n",
    "plt.legend()\n",
    "plt.show()"
   ]
  }
 ],
 "metadata": {
  "editor": "DataLab",
  "kernelspec": {
   "display_name": "Python 3 (ipykernel)",
   "language": "python",
   "name": "python3"
  },
  "language_info": {
   "codemirror_mode": {
    "name": "ipython",
    "version": 3
   },
   "file_extension": ".py",
   "mimetype": "text/x-python",
   "name": "python",
   "nbconvert_exporter": "python",
   "pygments_lexer": "ipython3",
   "version": "3.8.10"
  }
 },
 "nbformat": 4,
 "nbformat_minor": 5
}
