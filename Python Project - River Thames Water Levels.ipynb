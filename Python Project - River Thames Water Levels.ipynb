{
 "cells": [
  {
   "cell_type": "markdown",
   "id": "44795d74",
   "metadata": {},
   "source": [
    "**Datacamp Project**"
   ]
  },
  {
   "attachments": {},
   "cell_type": "markdown",
   "id": "35d4e17b-eeb6-40dd-a140-7b949390e115",
   "metadata": {
    "tags": []
   },
   "source": [
    "# Analyzing River Thames Water Levels\n",
    "Time series data is everywhere, from watching your stock portfolio to monitoring climate change, and even live-tracking as local cases of a virus become a global pandemic. In this project, you’ll work with a time series that tracks the tide levels of the Thames River. You’ll first load the data and inspect it data visually, and then perform calculations on the dataset to generate some summary statistics. You’ll end by reducing the time series to its component attributes and analyzing them. \n",
    "\n",
    "The original dataset is available from the British Oceanographic Data Center.\n",
    "\n",
    "Here's a map of the locations of the tidal meters along the River Thames in London.\n",
    "\n",
    "![](locations.png)\n",
    "\n",
    "The provided datasets are in the `data` folder in this workspace. For this project, you will work with one of these files, `10-11_London_Bridge.txt`, which contains comma separated values for water levels in the Thames River at the London Bridge. After you've finished the project, you can use your same code to analyze data from the other files (at other spots in the UK where tidal data is collected) if you'd like. \n",
    "\n",
    "The TXT file contains data for three variables, described in the table below. \n",
    "\n",
    "| Variable Name | Description | Format |\n",
    "| ------------- | ----------- | ------ |\n",
    "| Date and time | Date and time of measurement to GMT. Note the tide gauge is accurate to one minute. | dd/mm/yyyy hh:mm:ss |\n",
    "| Water level | High or low water level measured by tide meter. Tide gauges are accurate to 1 centimetre. | metres (Admiralty Chart Datum (CD), Ordnance Datum Newlyn (ODN or Trinity High Water (THW)) | \n",
    "| Flag | High water flag = 1, low water flag = 0 | Categorical (0 or 1) |\n",
    "\n"
   ]
  },
  {
   "cell_type": "code",
   "execution_count": 27,
   "id": "2ca4359b-3fb7-4cfc-8017-36f70e928fba",
   "metadata": {
    "executionCancelledAt": null,
    "executionTime": 95,
    "lastExecutedAt": 1723589945242,
    "lastExecutedByKernel": "761bb6d5-c6da-40cd-880e-4148b4fa7042",
    "lastScheduledRunId": null,
    "lastSuccessfullyExecutedCode": "#0. Importing pandas package and defining IQR function\nimport pandas as pd               \n\ndef IQR(column): \n    \"\"\" Calculates the interquartile range (IQR) for a given DataFrame column using the quantile method \"\"\"\n    q25, q75 = column.quantile([0.25, 0.75])\n    return q75-q25\n\n#1. Loading and filtering data from London Bridge\n\n#Reading text file with pandas\ndata = pd.read_csv(\"data/10-11_London_Bridge.txt\")\ndata.head()\n\n#Working with the first 3 columns of the dataframe, since the last one isn't necessary for the analysis\ndata = data.iloc[:, :3]\ndata.head()\n\n#Renaming columns for easier manipulation\ndata.columns = ['datetime', 'water_level', 'high_tide']\ndata.head()",
    "outputsMetadata": {
     "0": {
      "height": 186,
      "type": "dataFrame"
     }
    }
   },
   "outputs": [
    {
     "data": {
      "application/com.datacamp.data-table.v2+json": {
       "table": {
        "data": {
         "datetime": [
          "01/05/1911 15:40:00",
          "02/05/1911 11:25:00",
          "02/05/1911 16:05:00",
          "03/05/1911 11:50:00",
          "03/05/1911 16:55:00"
         ],
         "high_tide": [
          1,
          0,
          1,
          0,
          1
         ],
         "index": [
          0,
          1,
          2,
          3,
          4
         ],
         "water_level": [
          "  3.7130",
          " -2.9415",
          "  3.3828",
          " -2.6367",
          "  2.9256"
         ]
        },
        "schema": {
         "fields": [
          {
           "name": "index",
           "type": "integer"
          },
          {
           "name": "datetime",
           "type": "string"
          },
          {
           "name": "water_level",
           "type": "string"
          },
          {
           "name": "high_tide",
           "type": "integer"
          }
         ],
         "pandas_version": "1.4.0",
         "primaryKey": [
          "index"
         ]
        }
       },
       "total_rows": 5,
       "truncation_type": null
      },
      "text/html": [
       "<div>\n",
       "<style scoped>\n",
       "    .dataframe tbody tr th:only-of-type {\n",
       "        vertical-align: middle;\n",
       "    }\n",
       "\n",
       "    .dataframe tbody tr th {\n",
       "        vertical-align: top;\n",
       "    }\n",
       "\n",
       "    .dataframe thead th {\n",
       "        text-align: right;\n",
       "    }\n",
       "</style>\n",
       "<table border=\"1\" class=\"dataframe\">\n",
       "  <thead>\n",
       "    <tr style=\"text-align: right;\">\n",
       "      <th></th>\n",
       "      <th>datetime</th>\n",
       "      <th>water_level</th>\n",
       "      <th>high_tide</th>\n",
       "    </tr>\n",
       "  </thead>\n",
       "  <tbody>\n",
       "    <tr>\n",
       "      <th>0</th>\n",
       "      <td>01/05/1911 15:40:00</td>\n",
       "      <td>3.7130</td>\n",
       "      <td>1</td>\n",
       "    </tr>\n",
       "    <tr>\n",
       "      <th>1</th>\n",
       "      <td>02/05/1911 11:25:00</td>\n",
       "      <td>-2.9415</td>\n",
       "      <td>0</td>\n",
       "    </tr>\n",
       "    <tr>\n",
       "      <th>2</th>\n",
       "      <td>02/05/1911 16:05:00</td>\n",
       "      <td>3.3828</td>\n",
       "      <td>1</td>\n",
       "    </tr>\n",
       "    <tr>\n",
       "      <th>3</th>\n",
       "      <td>03/05/1911 11:50:00</td>\n",
       "      <td>-2.6367</td>\n",
       "      <td>0</td>\n",
       "    </tr>\n",
       "    <tr>\n",
       "      <th>4</th>\n",
       "      <td>03/05/1911 16:55:00</td>\n",
       "      <td>2.9256</td>\n",
       "      <td>1</td>\n",
       "    </tr>\n",
       "  </tbody>\n",
       "</table>\n",
       "</div>"
      ],
      "text/plain": [
       "              datetime water_level  high_tide\n",
       "0  01/05/1911 15:40:00      3.7130          1\n",
       "1  02/05/1911 11:25:00     -2.9415          0\n",
       "2  02/05/1911 16:05:00      3.3828          1\n",
       "3  03/05/1911 11:50:00     -2.6367          0\n",
       "4  03/05/1911 16:55:00      2.9256          1"
      ]
     },
     "execution_count": 27,
     "metadata": {},
     "output_type": "execute_result"
    }
   ],
   "source": [
    "#0. Importing pandas package and defining IQR function\n",
    "import pandas as pd               \n",
    "\n",
    "def IQR(column): \n",
    "    \"\"\" Calculates the interquartile range (IQR) for a given DataFrame column using the quantile method \"\"\"\n",
    "    q25, q75 = column.quantile([0.25, 0.75])\n",
    "    return q75-q25\n",
    "\n",
    "#1. Loading and filtering data from London Bridge\n",
    "\n",
    "#Reading text file with pandas\n",
    "data = pd.read_csv(\"data/10-11_London_Bridge.txt\")\n",
    "data.head()\n",
    "\n",
    "#Working with the first 3 columns of the dataframe, since the last one isn't necessary for the analysis\n",
    "data = data.iloc[:, :3]\n",
    "data.head()\n",
    "\n",
    "#Renaming columns for easier manipulation\n",
    "data.columns = ['datetime', 'water_level', 'high_tide']\n",
    "data.head()"
   ]
  },
  {
   "cell_type": "code",
   "execution_count": 28,
   "id": "8abace76-f34f-4170-ac57-82115b1d4cee",
   "metadata": {
    "executionCancelledAt": null,
    "executionTime": 9297,
    "lastExecutedAt": 1723589954539,
    "lastExecutedByKernel": "761bb6d5-c6da-40cd-880e-4148b4fa7042",
    "lastScheduledRunId": null,
    "lastSuccessfullyExecutedCode": "#2. Preparing data columns for analysis\n\n#Converting Date and time column to datetime data type\ndata['datetime'] = pd.to_datetime(data['datetime'])\ndata.head()\n\n#Converting Water level column to float data type\ndata['water_level'] = data.water_level.astype(float)\ndata.head()\n\n#Extracting month and year from datetime and creating new columns for easy access\ndata['month'] = data['datetime'].dt.month\ndata['year'] = data['datetime'].dt.year\ndata.head()",
    "outputsMetadata": {
     "0": {
      "height": 186,
      "type": "dataFrame"
     }
    }
   },
   "outputs": [
    {
     "data": {
      "application/com.datacamp.data-table.v2+json": {
       "table": {
        "data": {
         "datetime": [
          "1911-01-05T15:40:00.000",
          "1911-02-05T11:25:00.000",
          "1911-02-05T16:05:00.000",
          "1911-03-05T11:50:00.000",
          "1911-03-05T16:55:00.000"
         ],
         "high_tide": [
          1,
          0,
          1,
          0,
          1
         ],
         "index": [
          0,
          1,
          2,
          3,
          4
         ],
         "month": [
          1,
          2,
          2,
          3,
          3
         ],
         "water_level": [
          3.713,
          -2.9415,
          3.3828,
          -2.6367,
          2.9256
         ],
         "year": [
          1911,
          1911,
          1911,
          1911,
          1911
         ]
        },
        "schema": {
         "fields": [
          {
           "name": "index",
           "type": "integer"
          },
          {
           "name": "datetime",
           "type": "datetime"
          },
          {
           "name": "water_level",
           "type": "number"
          },
          {
           "name": "high_tide",
           "type": "integer"
          },
          {
           "name": "month",
           "type": "integer"
          },
          {
           "name": "year",
           "type": "integer"
          }
         ],
         "pandas_version": "1.4.0",
         "primaryKey": [
          "index"
         ]
        }
       },
       "total_rows": 5,
       "truncation_type": null
      },
      "text/html": [
       "<div>\n",
       "<style scoped>\n",
       "    .dataframe tbody tr th:only-of-type {\n",
       "        vertical-align: middle;\n",
       "    }\n",
       "\n",
       "    .dataframe tbody tr th {\n",
       "        vertical-align: top;\n",
       "    }\n",
       "\n",
       "    .dataframe thead th {\n",
       "        text-align: right;\n",
       "    }\n",
       "</style>\n",
       "<table border=\"1\" class=\"dataframe\">\n",
       "  <thead>\n",
       "    <tr style=\"text-align: right;\">\n",
       "      <th></th>\n",
       "      <th>datetime</th>\n",
       "      <th>water_level</th>\n",
       "      <th>high_tide</th>\n",
       "      <th>month</th>\n",
       "      <th>year</th>\n",
       "    </tr>\n",
       "  </thead>\n",
       "  <tbody>\n",
       "    <tr>\n",
       "      <th>0</th>\n",
       "      <td>1911-01-05 15:40:00</td>\n",
       "      <td>3.7130</td>\n",
       "      <td>1</td>\n",
       "      <td>1</td>\n",
       "      <td>1911</td>\n",
       "    </tr>\n",
       "    <tr>\n",
       "      <th>1</th>\n",
       "      <td>1911-02-05 11:25:00</td>\n",
       "      <td>-2.9415</td>\n",
       "      <td>0</td>\n",
       "      <td>2</td>\n",
       "      <td>1911</td>\n",
       "    </tr>\n",
       "    <tr>\n",
       "      <th>2</th>\n",
       "      <td>1911-02-05 16:05:00</td>\n",
       "      <td>3.3828</td>\n",
       "      <td>1</td>\n",
       "      <td>2</td>\n",
       "      <td>1911</td>\n",
       "    </tr>\n",
       "    <tr>\n",
       "      <th>3</th>\n",
       "      <td>1911-03-05 11:50:00</td>\n",
       "      <td>-2.6367</td>\n",
       "      <td>0</td>\n",
       "      <td>3</td>\n",
       "      <td>1911</td>\n",
       "    </tr>\n",
       "    <tr>\n",
       "      <th>4</th>\n",
       "      <td>1911-03-05 16:55:00</td>\n",
       "      <td>2.9256</td>\n",
       "      <td>1</td>\n",
       "      <td>3</td>\n",
       "      <td>1911</td>\n",
       "    </tr>\n",
       "  </tbody>\n",
       "</table>\n",
       "</div>"
      ],
      "text/plain": [
       "             datetime  water_level  high_tide  month  year\n",
       "0 1911-01-05 15:40:00       3.7130          1      1  1911\n",
       "1 1911-02-05 11:25:00      -2.9415          0      2  1911\n",
       "2 1911-02-05 16:05:00       3.3828          1      2  1911\n",
       "3 1911-03-05 11:50:00      -2.6367          0      3  1911\n",
       "4 1911-03-05 16:55:00       2.9256          1      3  1911"
      ]
     },
     "execution_count": 28,
     "metadata": {},
     "output_type": "execute_result"
    }
   ],
   "source": [
    "#2. Preparing data columns for analysis\n",
    "\n",
    "#Converting Date and time column to datetime data type\n",
    "data['datetime'] = pd.to_datetime(data['datetime'])\n",
    "data.head()\n",
    "\n",
    "#Converting Water level column to float data type\n",
    "data['water_level'] = data.water_level.astype(float)\n",
    "data.head()\n",
    "\n",
    "#Extracting month and year from datetime and creating new columns for easy access\n",
    "data['month'] = data['datetime'].dt.month\n",
    "data['year'] = data['datetime'].dt.year\n",
    "data.head()"
   ]
  },
  {
   "cell_type": "code",
   "execution_count": 29,
   "id": "e4132593-486f-47cb-a403-11ffc7e17dc4",
   "metadata": {
    "executionCancelledAt": null,
    "executionTime": 48,
    "lastExecutedAt": 1723589954588,
    "lastExecutedByKernel": "761bb6d5-c6da-40cd-880e-4148b4fa7042",
    "lastScheduledRunId": null,
    "lastSuccessfullyExecutedCode": "#3. Separating dataframe for high and low tide water levels\n\n#Filtering dataframe for each water level value\nhigh_tide = data[data['high_tide'] == 1]\nhigh_tide.head()\n\nlow_tide = data[data['high_tide'] == 0]\nlow_tide.head()\n\n#4. Finding summary statistics for new dataframes - mean, median and IQR\n\n#Creating 2 separate pandas series for summary statistics\nhigh_stats = high_tide['water_level'].agg(['mean', 'median', IQR])\nlow_stats = low_tide['water_level'].agg(['mean', 'median', IQR])\nprint(high_stats)\nprint(low_stats)",
    "outputsMetadata": {
     "0": {
      "height": 185,
      "type": "stream"
     }
    }
   },
   "outputs": [
    {
     "name": "stdout",
     "output_type": "stream",
     "text": [
      "mean      3.318373\n",
      "median    3.352600\n",
      "IQR       0.743600\n",
      "Name: water_level, dtype: float64\n",
      "mean     -2.383737\n",
      "median   -2.412900\n",
      "IQR       0.538200\n",
      "Name: water_level, dtype: float64\n"
     ]
    }
   ],
   "source": [
    "#3. Separating dataframe for high and low tide water levels\n",
    "\n",
    "#Filtering dataframe for each water level value\n",
    "high_tide = data[data['high_tide'] == 1]\n",
    "high_tide.head()\n",
    "\n",
    "low_tide = data[data['high_tide'] == 0]\n",
    "low_tide.head()\n",
    "\n",
    "#4. Finding summary statistics for new dataframes - mean, median and IQR\n",
    "\n",
    "#Creating 2 separate pandas series for summary statistics\n",
    "high_stats = high_tide['water_level'].agg(['mean', 'median', IQR])\n",
    "low_stats = low_tide['water_level'].agg(['mean', 'median', IQR])\n",
    "print(high_stats)\n",
    "print(low_stats)"
   ]
  },
  {
   "cell_type": "code",
   "execution_count": 30,
   "id": "b2f657a1-4721-47d7-9339-5d961e468a9b",
   "metadata": {
    "executionCancelledAt": null,
    "executionTime": 51,
    "lastExecutedAt": 1723589954639,
    "lastExecutedByKernel": "761bb6d5-c6da-40cd-880e-4148b4fa7042",
    "lastScheduledRunId": null,
    "lastSuccessfullyExecutedCode": "#5. Determining percentages of high and low tide level days each year\n\n#Calculating ratio for high tide days\nall_high_days = high_tide.groupby('year')['water_level'].count()\nvery_high_days = high_tide[high_tide['water_level'] > high_tide['water_level'].quantile(0.90)].groupby('year')['water_level'].count()\nvery_high_ratio = (very_high_days/all_high_days).reset_index()\nvery_high_ratio\n\n#Calculating ratio for low tide days\nall_low_days = low_tide.groupby('year')['water_level'].count()\nvery_low_days = low_tide[low_tide['water_level'] < low_tide['water_level'].quantile(0.10)].groupby('year')['water_level'].count()\nvery_low_ratio = (very_low_days/all_low_days).reset_index()\nvery_low_ratio\n\n#6. Creating solution dictionary\nsolution = {'high_statistics': high_stats, 'low_statistics': low_stats, 'very_high_ratio': very_high_ratio, 'very_low_ratio': very_low_ratio}\nprint(solution)",
    "outputsMetadata": {
     "0": {
      "height": 415,
      "type": "stream"
     }
    }
   },
   "outputs": [
    {
     "name": "stdout",
     "output_type": "stream",
     "text": [
      "{'high_statistics': mean      3.318373\n",
      "median    3.352600\n",
      "IQR       0.743600\n",
      "Name: water_level, dtype: float64, 'low_statistics': mean     -2.383737\n",
      "median   -2.412900\n",
      "IQR       0.538200\n",
      "Name: water_level, dtype: float64, 'very_high_ratio':     year  water_level\n",
      "0   1911     0.004098\n",
      "1   1912     0.032316\n",
      "2   1913     0.082212\n",
      "3   1914     0.055313\n",
      "4   1915     0.045045\n",
      "..   ...          ...\n",
      "80  1991     0.096317\n",
      "81  1992     0.103253\n",
      "82  1993     0.145923\n",
      "83  1994     0.150355\n",
      "84  1995     0.170213\n",
      "\n",
      "[85 rows x 2 columns], 'very_low_ratio':     year  water_level\n",
      "0   1911     0.060606\n",
      "1   1912     0.066667\n",
      "2   1913     0.022388\n",
      "3   1914     0.039017\n",
      "4   1915     0.033435\n",
      "..   ...          ...\n",
      "80  1991     0.150355\n",
      "81  1992     0.107496\n",
      "82  1993     0.112696\n",
      "83  1994     0.106383\n",
      "84  1995     0.107801\n",
      "\n",
      "[85 rows x 2 columns]}\n"
     ]
    }
   ],
   "source": [
    "#5. Determining percentages of high and low tide level days each year\n",
    "\n",
    "#Calculating ratio for high tide days\n",
    "all_high_days = high_tide.groupby('year')['water_level'].count()\n",
    "very_high_days = high_tide[high_tide['water_level'] > high_tide['water_level'].quantile(0.90)].groupby('year')['water_level'].count()\n",
    "very_high_ratio = (very_high_days/all_high_days).reset_index()\n",
    "very_high_ratio\n",
    "\n",
    "#Calculating ratio for low tide days\n",
    "all_low_days = low_tide.groupby('year')['water_level'].count()\n",
    "very_low_days = low_tide[low_tide['water_level'] < low_tide['water_level'].quantile(0.10)].groupby('year')['water_level'].count()\n",
    "very_low_ratio = (very_low_days/all_low_days).reset_index()\n",
    "very_low_ratio\n",
    "\n",
    "#6. Creating solution dictionary\n",
    "solution = {'high_statistics': high_stats, 'low_statistics': low_stats, 'very_high_ratio': very_high_ratio, 'very_low_ratio': very_low_ratio}\n",
    "print(solution)"
   ]
  }
 ],
 "metadata": {
  "editor": "DataCamp Workspace",
  "kernelspec": {
   "display_name": "Python 3 (ipykernel)",
   "language": "python",
   "name": "python3"
  },
  "language_info": {
   "codemirror_mode": {
    "name": "ipython",
    "version": 3
   },
   "file_extension": ".py",
   "mimetype": "text/x-python",
   "name": "python",
   "nbconvert_exporter": "python",
   "pygments_lexer": "ipython3",
   "version": "3.8.10"
  }
 },
 "nbformat": 4,
 "nbformat_minor": 5
}
